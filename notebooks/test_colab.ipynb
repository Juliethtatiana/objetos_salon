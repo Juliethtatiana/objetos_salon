{
  "nbformat": 4,
  "nbformat_minor": 0,
  "metadata": {
    "colab": {
      "provenance": []
    },
    "kernelspec": {
      "name": "python3",
      "display_name": "Python 3"
    },
    "language_info": {
      "name": "python"
    }
  },
  "cells": [
    {
      "cell_type": "code",
      "execution_count": 1,
      "metadata": {
        "id": "p2XDBOYbT_9y",
        "colab": {
          "base_uri": "https://localhost:8080/"
        },
        "outputId": "eaab47ef-b01b-4a3b-d8d2-f1547004b1ee"
      },
      "outputs": [
        {
          "output_type": "stream",
          "name": "stdout",
          "text": [
            "Cloning into 'objetos_salon'...\n",
            "remote: Enumerating objects: 2276, done.\u001b[K\n",
            "remote: Counting objects: 100% (424/424), done.\u001b[K\n",
            "remote: Compressing objects: 100% (277/277), done.\u001b[K\n",
            "remote: Total 2276 (delta 174), reused 365 (delta 147), pack-reused 1852 (from 5)\u001b[K\n",
            "Receiving objects: 100% (2276/2276), 1.23 GiB | 34.69 MiB/s, done.\n",
            "Resolving deltas: 100% (436/436), done.\n",
            "Updating files: 100% (1593/1593), done.\n"
          ]
        }
      ],
      "source": [
        "!git clone https://github.com/Gerardo-cursos/objetos_salon.git"
      ]
    }
  ]
}